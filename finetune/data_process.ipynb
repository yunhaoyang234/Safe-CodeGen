{
 "cells": [
  {
   "cell_type": "code",
   "execution_count": 2,
   "metadata": {},
   "outputs": [],
   "source": [
    "import json\n",
    "import os"
   ]
  },
  {
   "cell_type": "code",
   "execution_count": 21,
   "metadata": {},
   "outputs": [],
   "source": [
    "cwd = os.getcwd()+ '/data/'\n",
    "dirs = []\n",
    "tasks = []\n",
    "for dir in os.listdir(cwd):\n",
    "    if not ('.' in dir):\n",
    "        for f_dir in os.listdir(cwd+dir):\n",
    "            tasks.append(cwd + dir + '/prompt.txt')\n",
    "            dirs.append(cwd + dir + '/' + f_dir)"
   ]
  },
  {
   "cell_type": "code",
   "execution_count": 23,
   "metadata": {},
   "outputs": [],
   "source": [
    "data = []\n",
    "\n",
    "for i in range(len(dirs)):\n",
    "    f = open(dirs[i])\n",
    "    user = open(tasks[i]).read()\n",
    "    assistant = f.read()\n",
    "    data_point = {\n",
    "        'messages': [\n",
    "            {\n",
    "                \"role\":\"user\",\n",
    "                \"content\": user\n",
    "            },\n",
    "            {\n",
    "                \"role\":\"assistant\",\n",
    "                \"content\": assistant\n",
    "            }\n",
    "        ]\n",
    "    }\n",
    "    data.append(data_point)"
   ]
  },
  {
   "cell_type": "code",
   "execution_count": 29,
   "metadata": {},
   "outputs": [],
   "source": [
    "json_string = ''\n",
    "for d in data:\n",
    "    json_str = json.dumps(d, separators=(',', ':'))\n",
    "    json_string += json_str\n",
    "    json_string += '\\n'"
   ]
  },
  {
   "cell_type": "code",
   "execution_count": 30,
   "metadata": {},
   "outputs": [],
   "source": [
    "with open(cwd + 'data.jsonl', 'w') as outfile:\n",
    "    outfile.write(json_string)"
   ]
  },
  {
   "cell_type": "code",
   "execution_count": null,
   "metadata": {},
   "outputs": [],
   "source": []
  }
 ],
 "metadata": {
  "kernelspec": {
   "display_name": "base",
   "language": "python",
   "name": "python3"
  },
  "language_info": {
   "codemirror_mode": {
    "name": "ipython",
    "version": 3
   },
   "file_extension": ".py",
   "mimetype": "text/x-python",
   "name": "python",
   "nbconvert_exporter": "python",
   "pygments_lexer": "ipython3",
   "version": "3.11.4"
  }
 },
 "nbformat": 4,
 "nbformat_minor": 2
}
