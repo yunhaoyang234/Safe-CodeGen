{
 "cells": [
  {
   "cell_type": "code",
   "execution_count": null,
   "metadata": {},
   "outputs": [],
   "source": [
    "from openai import OpenAI\n",
    "import pandas as pd\n",
    "import base64\n",
    "import matplotlib.pyplot as plt\n",
    "import seaborn as sns\n",
    "import os"
   ]
  },
  {
   "cell_type": "code",
   "execution_count": null,
   "metadata": {},
   "outputs": [],
   "source": [
    "api_key = input(\"Please enter the OpenAI API Key:\")\n",
    "# api_key = \"\"\n",
    "\n",
    "client = OpenAI(api_key = api_key)\n",
    "\n",
    "job_id = \"ENTER JOB ID HERE\"\n",
    "job = client.fine_tuning.jobs.retrieve(job_id)\n",
    "\n",
    "cwd = os.getcwd()"
   ]
  },
  {
   "cell_type": "code",
   "execution_count": null,
   "metadata": {},
   "outputs": [],
   "source": [
    "# Run fine-tuned model\n",
    "\n",
    "prompt = '''\n",
    "Given the following APIs: \n",
    "\"\"\"\n",
    "velocity_publisher(linear, angular): returns nothing. Publishes one linear and angular velocity command to the robot. \n",
    "stop(): returns nothing. Stops the robot. \n",
    "math.pi: returns the value of pi (float).\n",
    "time.time(): returns the elapsed seconds since the epoch.\n",
    "pedestrian_observed(): returns a boolean value indicating whether a pedestrian is observed.\n",
    "\"\"\"\n",
    "Write a Python function called \"turn_right_60_degrees\" that controls a car through a complete 60-degree right turn. Please response the python function only.\n",
    "'''\n",
    "\n",
    "ft_model = job.fine_tuned_model\n",
    "completion = client.chat.completions.create(\n",
    "  model=ft_model,\n",
    "  messages=[\n",
    "    {\"role\": \"system\", \"content\": \"You are a helpful assistant.\"},\n",
    "    {\"role\": \"user\", \"content\": prompt}\n",
    "  ]\n",
    ")\n",
    "print(completion.choices[0].message.content)"
   ]
  },
  {
   "cell_type": "markdown",
   "metadata": {},
   "source": [
    "### Out of domain task"
   ]
  },
  {
   "cell_type": "code",
   "execution_count": null,
   "metadata": {},
   "outputs": [],
   "source": [
    "prompt = '''\n",
    "Given the following APIs: \n",
    "\"\"\"\n",
    "navigate(): returns nothing. Publish command to move the robot. \n",
    "stop(): returns nothing. Stop the robot. \n",
    "person_observed(): returns a boolean value indicating whether a person is observed.\n",
    "target_observed(): returns a boolean value indicating whether the final target is observed.\n",
    "signal(): returns nothing. Send a signal to users once observing the final target.\n",
    "\"\"\"\n",
    "Write a Python function called \"search\" that controls a robot to search for the final target. Please response the python function only.\n",
    "'''\n",
    "\n",
    "job_id = \"ENTER JOB ID HERE\"\n",
    "job = client.fine_tuning.jobs.retrieve(job_id)\n",
    "\n",
    "ft_model = job.fine_tuned_model\n",
    "completion = client.chat.completions.create(\n",
    "  model=ft_model,\n",
    "  messages=[\n",
    "    {\"role\": \"system\", \"content\": \"You are a helpful assistant.\"},\n",
    "    {\"role\": \"user\", \"content\": prompt}\n",
    "  ]\n",
    ")\n",
    "print(completion.choices[0].message.content)"
   ]
  },
  {
   "cell_type": "code",
   "execution_count": null,
   "metadata": {},
   "outputs": [],
   "source": [
    "with open('sample_inputs/spot_controller.py', mode=\"w\") as f:\n",
    "    f.write(completion.choices[0].message.content)\n",
    "    f.close()"
   ]
  },
  {
   "cell_type": "code",
   "execution_count": null,
   "metadata": {},
   "outputs": [],
   "source": [
    "# Run baseline model\n",
    "cwd = os.getcwd()\n",
    "\n",
    "prompt = '''\n",
    "Given the following APIs: \n",
    "\"\"\"\n",
    "navigate(): returns nothing. Publish command to move the robot. \n",
    "stop(): returns nothing. Stop the robot. \n",
    "person_observed(): returns a boolean value indicating whether a person is observed.\n",
    "target_observed(): returns a boolean value indicating whether the final target is observed.\n",
    "signal(): returns nothing. Send a signal to users once observing the final target.\n",
    "\"\"\"\n",
    "Write a Python function called \"search\" that controls a robot to search for the final target. Please response the python function only.\n",
    "'''\n",
    "completion = client.chat.completions.create(\n",
    "  model='gpt-4o-mini',\n",
    "  messages=[\n",
    "    {\"role\": \"system\", \"content\": \"You are a helpful assistant.\"},\n",
    "    {\"role\": \"user\", \"content\": prompt}\n",
    "  ]\n",
    ")\n",
    "print(completion.choices[0].message.content)"
   ]
  },
  {
   "cell_type": "code",
   "execution_count": null,
   "metadata": {},
   "outputs": [],
   "source": [
    "code = completion.choices[0].message.content\n",
    "code = code[code.find('def'):]\n",
    "code = code[:code.find(\"```\")]\n",
    "with open('sample_inputs/spot_benchmark_controller.py', mode=\"w\") as f:\n",
    "    f.write(code)\n",
    "    f.close()"
   ]
  }
 ],
 "metadata": {
  "language_info": {
   "name": "python"
  }
 },
 "nbformat": 4,
 "nbformat_minor": 2
}
